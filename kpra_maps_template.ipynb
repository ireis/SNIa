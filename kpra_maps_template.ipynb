{
 "cells": [
  {
   "cell_type": "code",
   "execution_count": null,
   "metadata": {},
   "outputs": [],
   "source": [
    "# import the spectra, flux and sn_names matrixes\n",
    "reload(kpra_funcs)\n",
    "sn_names = numpy.load('kpra_sn_names.npy')\n",
    "W_kpr = numpy.load('/Users/natalie/git/SNIa/W_kpr.npy')\n",
    "F_kpr = numpy.load('/Users/natalie/git/SNIa/F_kpr.npy')"
   ]
  },
  {
   "cell_type": "code",
   "execution_count": null,
   "metadata": {},
   "outputs": [],
   "source": [
    "# Plot the k spectra example bins to choose the bins\n",
    "k=kpr_df[kpr_df['sn_kpr'] == '1994d'].index[0]\n",
    "\n",
    "plt.figure(figsize = (7,5))\n",
    "plt.plot(W_kpr, F_kpr[k])\n",
    "\n",
    "# SiII 6130 and 5780 - orange\n",
    "#(array([5912.73374889]), array([6370.88156723]))\n",
    "\n",
    "min_wl = 4000#5650\n",
    "max_wl = 6370#6380\n",
    "idx_min, val_min = kpra_funcs.find_nearest(W_kpr,min_wl)\n",
    "idx_max, val_max = kpra_funcs.find_nearest(W_kpr,max_wl)\n",
    "#print(idx_min,idx_max)\n",
    "plt.plot(W_kpr[idx_min:idx_max], F_kpr[k,idx_min:idx_max])\n",
    "\n",
    "plt.show()"
   ]
  },
  {
   "cell_type": "code",
   "execution_count": null,
   "metadata": {},
   "outputs": [],
   "source": [
    "# find the idx that match the tol critiria\n",
    "idx = kpra_funcs.select_spec_from_peak_by_bin(kpr_df, F_kpr, W_kpr, 0.8, sn_names, min_wl, max_wl)\n",
    "\n",
    "# create a matrix with spectra for good sne and nans for not\n",
    "reload(kpra_funcs)\n",
    "F_si6130, use_inds = kpra_funcs.create_umap_flux_mat(F_kpr, sn_names, idx, idx_min, idx_max)\n",
    "# now F_si6130 has nans where the sne fails the cut and thespectra where it is good\n",
    "\n",
    "# the impute will make the sne with nans have the median spectra of all batch, since we can't run umap with nans\n",
    "F_si6130, W_si6130 = kpra_funcs.impute_spec(F_si6130, W_kpr[idx_min:idx_max]) \n",
    "\n",
    "# normalize the spectra again according to the median of the choosen bin\n",
    "reload(kpra_funcs)\n",
    "F_si6130 = kpra_funcs.norm_by_bin(F_si6130)"
   ]
  },
  {
   "cell_type": "code",
   "execution_count": null,
   "metadata": {},
   "outputs": [],
   "source": [
    "plt.figure(figsize = (7,5))\n",
    "\n",
    "#print(idx_min,idx_max)\n",
    "for i in range(80,90):\n",
    "    plt.plot(W_kpr[idx_min:idx_max], F_si6130[use_inds][i] + i*0.5)\n",
    "plt.show()"
   ]
  },
  {
   "cell_type": "code",
   "execution_count": null,
   "metadata": {},
   "outputs": [],
   "source": [
    "from importlib import reload\n",
    "reload(specplotlib)\n",
    "\n",
    "# fit with umap distance calculation using default matrix (uclidiean) - with only sne with good spectra (not median)\n",
    "specplotlib.umap_param_scan(F_si6130[use_inds], save=False, c=c[use_inds])"
   ]
  },
  {
   "cell_type": "code",
   "execution_count": null,
   "metadata": {},
   "outputs": [],
   "source": [
    "import umap\n",
    "t_umap = umap.UMAP(n_neighbors=25,min_dist=0.01).fit_transform(F_si6130[use_inds])\n",
    "\n",
    "plt.figure(figsize = (15,7))\n",
    "x = t_umap[:, 0]\n",
    "y = t_umap[:, 1]\n",
    "\n",
    "uc = numpy.unique(c)\n",
    "plt.scatter(x, y, s=6, c='gray')\n",
    "uc = numpy.unique(c)\n",
    "uc = uc[numpy.isfinite(uc)]\n",
    "for uc_ in uc:\n",
    "    inds = numpy.where(c[use_inds] == uc_)[0]\n",
    "    plt.scatter(x[inds], y[inds], s=50)\n",
    "plt.show()\n",
    "\n",
    "# manualy put -9999 value on spectra with median spectra (failed spectra) so that we can cut from display range\n",
    "si6130_umap = numpy.ones([F_si6130.shape[0],2])*(-9999)\n",
    "si6130_umap[use_inds] = t_umap\n",
    "\n",
    "numpy.save('/Users/natalie/git/SNIa/supernova_toast/kpra/maps/si6130_umap_080', si6130_umap)"
   ]
  },
  {
   "cell_type": "code",
   "execution_count": null,
   "metadata": {},
   "outputs": [],
   "source": [
    "\"\"\"\n",
    "# save the current matixes for (5650,6300) bin with tol = 0.8\n",
    "numpy.save('/Users/natalie/git/SNIa/W_si6130_080', W_si6130)\n",
    "numpy.save('/Users/natalie/git/SNIa/F_si6130_080', F_si6130)\n",
    "\"\"\""
   ]
  }
 ],
 "metadata": {
  "kernelspec": {
   "display_name": "Python 3",
   "language": "python",
   "name": "python3"
  },
  "language_info": {
   "codemirror_mode": {
    "name": "ipython",
    "version": 3
   },
   "file_extension": ".py",
   "mimetype": "text/x-python",
   "name": "python",
   "nbconvert_exporter": "python",
   "pygments_lexer": "ipython3",
   "version": "3.6.7"
  }
 },
 "nbformat": 4,
 "nbformat_minor": 2
}
